{
 "cells": [
  {
   "cell_type": "code",
   "execution_count": 109,
   "metadata": {},
   "outputs": [],
   "source": [
    "import numpy as np\n",
    "import math\n",
    "def reflections_and_projections(points):\n",
    "    #Reflect over y = 1\n",
    "    for idx,x in enumerate(points):\n",
    "        if idx == 1:\n",
    "            points[idx] = 1 - (x-1)\n",
    "    #Rotates pi/2 about the origin\n",
    "    rot_matrix = np.vstack((np.array([0, -1]),np.array([1, 0])))\n",
    "    points = np.matmul(rot_matrix, points)\n",
    "    #Projects onto the line y = 3x\n",
    "    proj_matrix = (1/10) * np.vstack((np.array([1, 3]), np.array([3, 9])))\n",
    "    points = np.matmul(proj_matrix, points)\n",
    "    return points"
   ]
  },
  {
   "cell_type": "code",
   "execution_count": 111,
   "metadata": {},
   "outputs": [
    {
     "name": "stdout",
     "output_type": "stream",
     "text": [
      "[[ 0  1  2  3  4  5  6  7  8  9]\n",
      " [ 1  2  3  4  5  6  7  8  9 10]]\n"
     ]
    },
    {
     "data": {
      "text/plain": [
       "array([[-0.1,  0.3,  0.7,  1.1,  1.5,  1.9,  2.3,  2.7,  3.1,  3.5],\n",
       "       [-0.3,  0.9,  2.1,  3.3,  4.5,  5.7,  6.9,  8.1,  9.3, 10.5]])"
      ]
     },
     "execution_count": 111,
     "metadata": {},
     "output_type": "execute_result"
    }
   ],
   "source": [
    "points = np.array([np.arange(i,i+2) for i in range(10)])\n",
    "points = np.transpose(points)\n",
    "# points = points[::-1]\n",
    "print(points)\n",
    "reflections_and_projections(points)"
   ]
  },
  {
   "cell_type": "code",
   "execution_count": 143,
   "metadata": {},
   "outputs": [],
   "source": [
    "def normalize(image):\n",
    "    imageMax = np.amax(image)\n",
    "    imageMin = np.amin(image)\n",
    "    print(image - imageMin)\n",
    "    image = (image-imageMin) * (255 / (imageMax - imageMin)) \n",
    "    return image"
   ]
  },
  {
   "cell_type": "code",
   "execution_count": 147,
   "metadata": {},
   "outputs": [
    {
     "name": "stdout",
     "output_type": "stream",
     "text": [
      "[[   0    1    2 ...   29   30   31]\n",
      " [  32   33   34 ...   61   62   63]\n",
      " [  64   65   66 ...   93   94   95]\n",
      " ...\n",
      " [ 928  929  930 ...  957  958  959]\n",
      " [ 960  961  962 ...  989  990  991]\n",
      " [ 992  993  994 ... 1021 1022 1023]]\n",
      "[[   0    1    2 ...   29   30   31]\n",
      " [  32   33   34 ...   61   62   63]\n",
      " [  64   65   66 ...   93   94   95]\n",
      " ...\n",
      " [ 928  929  930 ...  957  958  959]\n",
      " [ 960  961  962 ...  989  990  991]\n",
      " [ 992  993  994 ... 1021 1022 1023]]\n"
     ]
    },
    {
     "data": {
      "text/plain": [
       "array([[0.00000000e+00, 2.49266862e-01, 4.98533724e-01, ...,\n",
       "        7.22873900e+00, 7.47800587e+00, 7.72727273e+00],\n",
       "       [7.97653959e+00, 8.22580645e+00, 8.47507331e+00, ...,\n",
       "        1.52052786e+01, 1.54545455e+01, 1.57038123e+01],\n",
       "       [1.59530792e+01, 1.62023460e+01, 1.64516129e+01, ...,\n",
       "        2.31818182e+01, 2.34310850e+01, 2.36803519e+01],\n",
       "       ...,\n",
       "       [2.31319648e+02, 2.31568915e+02, 2.31818182e+02, ...,\n",
       "        2.38548387e+02, 2.38797654e+02, 2.39046921e+02],\n",
       "       [2.39296188e+02, 2.39545455e+02, 2.39794721e+02, ...,\n",
       "        2.46524927e+02, 2.46774194e+02, 2.47023460e+02],\n",
       "       [2.47272727e+02, 2.47521994e+02, 2.47771261e+02, ...,\n",
       "        2.54501466e+02, 2.54750733e+02, 2.55000000e+02]])"
      ]
     },
     "execution_count": 147,
     "metadata": {},
     "output_type": "execute_result"
    }
   ],
   "source": [
    "arr = np.arange(32*32).reshape(32,32)\n",
    "print(arr)\n",
    "normalize(arr)"
   ]
  },
  {
   "cell_type": "code",
   "execution_count": 153,
   "metadata": {},
   "outputs": [],
   "source": [
    "def sigmoid_normalize(image,a):\n",
    "    return 255 * (1 + math.e ** ((-a) ** -1 * (image - 128))) ** -1"
   ]
  },
  {
   "cell_type": "code",
   "execution_count": 155,
   "metadata": {},
   "outputs": [
    {
     "name": "stdout",
     "output_type": "stream",
     "text": [
      "[[   0    1    2 ...   29   30   31]\n",
      " [  32   33   34 ...   61   62   63]\n",
      " [  64   65   66 ...   93   94   95]\n",
      " ...\n",
      " [ 928  929  930 ...  957  958  959]\n",
      " [ 960  961  962 ...  989  990  991]\n",
      " [ 992  993  994 ... 1021 1022 1023]]\n"
     ]
    },
    {
     "data": {
      "text/plain": [
       "array([[1.94357562e-09, 2.37388863e-09, 2.89947412e-09, ...,\n",
       "        6.41962172e-07, 7.84094367e-07, 9.57695022e-07],\n",
       "       [1.16973134e-06, 1.42871308e-06, 1.74503410e-06, ...,\n",
       "        3.86361163e-04, 4.71902432e-04, 5.76382696e-04],\n",
       "       [7.03995062e-04, 8.59860985e-04, 1.05023579e-03, ...,\n",
       "        2.32318055e-01, 2.83696688e-01, 3.46422587e-01],\n",
       "       ...,\n",
       "       [2.55000000e+02, 2.55000000e+02, 2.55000000e+02, ...,\n",
       "        2.55000000e+02, 2.55000000e+02, 2.55000000e+02],\n",
       "       [2.55000000e+02, 2.55000000e+02, 2.55000000e+02, ...,\n",
       "        2.55000000e+02, 2.55000000e+02, 2.55000000e+02],\n",
       "       [2.55000000e+02, 2.55000000e+02, 2.55000000e+02, ...,\n",
       "        2.55000000e+02, 2.55000000e+02, 2.55000000e+02]])"
      ]
     },
     "execution_count": 155,
     "metadata": {},
     "output_type": "execute_result"
    }
   ],
   "source": [
    "arr = np.arange(32*32).reshape(32,32)\n",
    "print(arr)\n",
    "sigmoid_normalize(arr,5)"
   ]
  }
 ],
 "metadata": {
  "kernelspec": {
   "display_name": "Python 3",
   "language": "python",
   "name": "python3"
  },
  "language_info": {
   "codemirror_mode": {
    "name": "ipython",
    "version": 3
   },
   "file_extension": ".py",
   "mimetype": "text/x-python",
   "name": "python",
   "nbconvert_exporter": "python",
   "pygments_lexer": "ipython3",
   "version": "3.5.2"
  }
 },
 "nbformat": 4,
 "nbformat_minor": 2
}
