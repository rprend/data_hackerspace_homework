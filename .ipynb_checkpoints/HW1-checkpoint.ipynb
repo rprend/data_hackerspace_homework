{
 "cells": [
  {
   "cell_type": "code",
   "execution_count": 109,
   "metadata": {},
   "outputs": [],
   "source": [
    "import numpy as np\n",
    "import math\n",
    "def reflections_and_projections(points):\n",
    "    #Reflect over y = 1\n",
    "    for idx,x in enumerate(points):\n",
    "        if idx == 1:\n",
    "            points[idx] = 1 - (x-1)\n",
    "    #Rotates pi/2 about the origin\n",
    "    rot_matrix = np.vstack((np.array([0, -1]),np.array([1, 0])))\n",
    "    points = np.matmul(rot_matrix, points)\n",
    "    #Projects onto the line y = 3x\n",
    "    proj_matrix = (1/10) * np.vstack((np.array([1, 3]), np.array([3, 9])))\n",
    "    points = np.matmul(proj_matrix, points)\n",
    "    return points"
   ]
  },
  {
   "cell_type": "code",
   "execution_count": 111,
   "metadata": {},
   "outputs": [
    {
     "name": "stdout",
     "output_type": "stream",
     "text": [
      "[[ 0  1  2  3  4  5  6  7  8  9]\n",
      " [ 1  2  3  4  5  6  7  8  9 10]]\n"
     ]
    },
    {
     "data": {
      "text/plain": [
       "array([[-0.1,  0.3,  0.7,  1.1,  1.5,  1.9,  2.3,  2.7,  3.1,  3.5],\n",
       "       [-0.3,  0.9,  2.1,  3.3,  4.5,  5.7,  6.9,  8.1,  9.3, 10.5]])"
      ]
     },
     "execution_count": 111,
     "metadata": {},
     "output_type": "execute_result"
    }
   ],
   "source": [
    "points = np.array([np.arange(i,i+2) for i in range(10)])\n",
    "points = np.transpose(points)\n",
    "# points = points[::-1]\n",
    "print(points)\n",
    "reflections_and_projections(points)"
   ]
  },
  {
   "cell_type": "code",
   "execution_count": 112,
   "metadata": {},
   "outputs": [],
   "source": [
    "def normalize(image):\n",
    "    print(image.max())"
   ]
  },
  {
   "cell_type": "code",
   "execution_count": 117,
   "metadata": {},
   "outputs": [
    {
     "name": "stdout",
     "output_type": "stream",
     "text": [
      "[array([1]) array([1, 2]) array([1, 2, 3]) array([1, 2, 3, 4])\n",
      " array([1, 2, 3, 4, 5]) array([1, 2, 3, 4, 5, 6])\n",
      " array([1, 2, 3, 4, 5, 6, 7]) array([1, 2, 3, 4, 5, 6, 7, 8])\n",
      " array([1, 2, 3, 4, 5, 6, 7, 8, 9])\n",
      " array([ 1,  2,  3,  4,  5,  6,  7,  8,  9, 10])]\n"
     ]
    }
   ],
   "source": [
    "arr = np.array([np.arange(1,2+i) for i in range(10)])\n",
    "print(arr)\n",
    "# normalize(arr)"
   ]
  }
 ],
 "metadata": {
  "kernelspec": {
   "display_name": "Python 3",
   "language": "python",
   "name": "python3"
  },
  "language_info": {
   "codemirror_mode": {
    "name": "ipython",
    "version": 3
   },
   "file_extension": ".py",
   "mimetype": "text/x-python",
   "name": "python",
   "nbconvert_exporter": "python",
   "pygments_lexer": "ipython3",
   "version": "3.5.2"
  }
 },
 "nbformat": 4,
 "nbformat_minor": 2
}
